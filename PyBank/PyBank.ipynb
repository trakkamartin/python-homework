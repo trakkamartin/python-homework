{
 "cells": [
  {
   "cell_type": "code",
   "execution_count": 1,
   "id": "1812d82e-900a-404d-b50f-4167aea26661",
   "metadata": {},
   "outputs": [],
   "source": [
    "import csv\n",
    "from pathlib import Path\n",
    "\n"
   ]
  },
  {
   "cell_type": "code",
   "execution_count": 2,
   "id": "56f1c688-3cf8-42e7-af73-8e3bcce0a6c7",
   "metadata": {},
   "outputs": [],
   "source": [
    "file_to_load=Path('Resources/budget_data.csv')\n",
    "file_to_output=Path('Resources/analysis.txt')"
   ]
  },
  {
   "cell_type": "code",
   "execution_count": 3,
   "id": "2997d75e-9f9d-4aee-89f7-20c0b5132473",
   "metadata": {},
   "outputs": [],
   "source": [
    "# Track various financial parameters\n",
    "total_months = 0\n",
    "month_of_change = []\n",
    "net_change_list = []\n",
    "greatest_increase = [\"\", 0]\n",
    "greatest_decrease = [\"\", 9999999999999999999]\n",
    "total_net = 0"
   ]
  },
  {
   "cell_type": "code",
   "execution_count": 4,
   "id": "c33e929a-44a7-46a9-a6fb-928362f75e2d",
   "metadata": {},
   "outputs": [],
   "source": [
    "with open(file_to_load) as financial_data:\n",
    "    reader=csv.reader(financial_data)\n",
    "    header=next(reader)\n",
    "    \n",
    "    first_row=next(reader)\n",
    "    total_months=total_months+1\n",
    "    total_net=total_net+int(first_row[1])\n",
    "    prev_net=int(first_row[1])\n",
    "    \n",
    "    for rows in reader:\n",
    "        total_months=total_months+1\n",
    "        total_net=total_net+int(rows[1])\n",
    "        \n",
    "        \n",
    "        net_change=int(rows[1])-prev_net\n",
    "        prev_net=int(rows[1])\n",
    "        net_change_list.append(net_change)\n",
    "        month_of_change.append(rows[0])\n",
    "        \n",
    "        if net_change>greatest_increase[1]:\n",
    "            greatest_increase[0]=rows[0]\n",
    "            greatest_increase[1]=net_change\n",
    "        if net_change<greatest_decrease[1]:\n",
    "            greatest_decrease[0]=rows[0]\n",
    "            greatest_decrease[1]=net_change\n",
    "            "
   ]
  },
  {
   "cell_type": "code",
   "execution_count": 5,
   "id": "a8bf29a0-bcf0-4e31-8573-28a4ff9a8fc1",
   "metadata": {},
   "outputs": [],
   "source": [
    "net_average=round(sum(net_change_list)/len(net_change_list),2)\n"
   ]
  },
  {
   "cell_type": "code",
   "execution_count": 7,
   "id": "d7324023-eb7b-4914-b2ac-f106a1f7fecc",
   "metadata": {},
   "outputs": [],
   "source": [
    "# Export the results to text file\n",
    "with open(file_to_output, \"w\") as txt_file:\n",
    "    txt_file.write(f\"Financial Analysis\\n\")\n",
    "    txt_file.write(f\"----------------------------\\n\")\n",
    "    txt_file.write(f\"Total Months: {total_months}\\n\")\n",
    "    txt_file.write(f\"Total: ${total_net}\\n\")\n",
    "    txt_file.write(f\"Average  Change: ${net_average}\\n\")\n",
    "    txt_file.write(f\"Greatest Increase in Profits: {greatest_increase[0]} (${greatest_increase[1]})\\n\")\n",
    "    txt_file.write(f\"Greatest Decrease in Profits: {greatest_decrease[0]} (${greatest_decrease[1]})\\n\")"
   ]
  },
  {
   "cell_type": "code",
   "execution_count": null,
   "id": "44f63d98-098e-4cd4-93e0-823fbdafd45d",
   "metadata": {},
   "outputs": [],
   "source": []
  }
 ],
 "metadata": {
  "kernelspec": {
   "display_name": "Python 3",
   "language": "python",
   "name": "python3"
  },
  "language_info": {
   "codemirror_mode": {
    "name": "ipython",
    "version": 3
   },
   "file_extension": ".py",
   "mimetype": "text/x-python",
   "name": "python",
   "nbconvert_exporter": "python",
   "pygments_lexer": "ipython3",
   "version": "3.7.10"
  }
 },
 "nbformat": 4,
 "nbformat_minor": 5
}
